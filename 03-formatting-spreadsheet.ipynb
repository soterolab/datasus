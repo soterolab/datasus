{
 "cells": [
  {
   "cell_type": "code",
   "execution_count": 1,
   "metadata": {},
   "outputs": [],
   "source": [
    "import pandas as pd\n",
    "from IPython.display import display\n",
    "from tqdm import tqdm\n",
    "\n",
    "from openpyxl import Workbook\n",
    "from openpyxl.styles import Alignment, Font\n",
    "from openpyxl.utils.dataframe import dataframe_to_rows"
   ]
  },
  {
   "cell_type": "code",
   "execution_count": 2,
   "metadata": {},
   "outputs": [],
   "source": [
    "pd.options.display.float_format = '{:,.2f}%'.format"
   ]
  },
  {
   "cell_type": "code",
   "execution_count": 3,
   "metadata": {},
   "outputs": [],
   "source": [
    "data_pkl = './datasus_tidy.pkl'\n",
    "xl_file = './summary.xlsx'\n",
    "missing_data = 'S.I.'"
   ]
  },
  {
   "cell_type": "code",
   "execution_count": 4,
   "metadata": {},
   "outputs": [],
   "source": [
    "data = pd.read_pickle(data_pkl, compression='zip')"
   ]
  },
  {
   "cell_type": "code",
   "execution_count": 5,
   "metadata": {},
   "outputs": [],
   "source": [
    "cols = ['EstadoCivil', 'Sexo', 'RacaCor', 'Escolaridade', 'LocalOcorrenciaObito']\n",
    "lbls = ['Estado Civil', 'Sexo', 'Raça/Cor', 'Escolaridade', 'Local de Ocorrência do Óbito']"
   ]
  },
  {
   "cell_type": "code",
   "execution_count": 6,
   "metadata": {},
   "outputs": [
    {
     "name": "stderr",
     "output_type": "stream",
     "text": [
      "5it [00:00,  9.91it/s]\n"
     ]
    }
   ],
   "source": [
    "wb = Workbook()\n",
    "ws = wb.active\n",
    "\n",
    "ws.column_dimensions['A'].width = max([len(lbl) for lbl in lbls])\n",
    "ws['A1'] = 'Características de vítimas fatais de acidentes de trânsito (2006-2018)'\n",
    "ws['A1'].alignment = Alignment(horizontal='left', vertical='top')\n",
    "ws['A1'].font = Font(sz=14, bold=True)\n",
    "ws.append([])\n",
    "\n",
    "ncols = data.DataObito.dt.year.max() - data.DataObito.dt.year.min() + 1\n",
    "ws.merge_cells(start_row=1, end_row=ws.max_row+1, start_column=1, end_column=ncols+1)\n",
    "\n",
    "for col, lbl in tqdm(zip(cols, lbls)):\n",
    "\n",
    "    if data[col].dtype == 'category':\n",
    "        data[col].cat.add_categories(missing_data, inplace=True)\n",
    "        data.loc[data[col].isna(), col] = missing_data\n",
    "\n",
    "    pvt = pd.pivot_table(data, index=data[col], columns=data.DataObito.dt.year, values='DataObito', aggfunc='count')\n",
    "    pvt = (pvt/pvt.sum())\n",
    "    pvt = pvt[pvt.index != missing_data].sort_values(by=pvt.columns[0], ascending=False)\\\n",
    "                                        .append(pvt[pvt.index == missing_data])\n",
    "    pvt.index.name = lbl\n",
    "    \n",
    "    for row in dataframe_to_rows(pvt, header=(col==cols[0])):\n",
    "        ws.append(row)\n",
    "        \n",
    "        # Row with years\n",
    "        if row[0] is None:\n",
    "            for cell in ws[ws.max_row][1:]:\n",
    "                cell.font = Font(bold=True)\n",
    "\n",
    "        # Rows with variables' names\n",
    "        if row[0] in lbls:\n",
    "            ws[ws.max_row][0].alignment = Alignment(indent=5)\n",
    "            ws[ws.max_row][0].font = Font(bold=True)\n",
    "            ws[ws.max_row][0].value = ws[ws.max_row][0].value.upper()\n",
    "            ws.merge_cells(start_row=ws.max_row, end_row=ws.max_row, start_column=1, end_column=ncols+1)\n",
    "            \n",
    "        # Formatting percentages\n",
    "        for cell in ws[ws.max_row]:\n",
    "            if type(cell.value) == float:\n",
    "                cell.number_format = '0.00%'\n",
    "\n",
    "wb.save(xl_file)"
   ]
  }
 ],
 "metadata": {
  "kernelspec": {
   "display_name": "Python 3",
   "language": "python",
   "name": "python3"
  },
  "language_info": {
   "codemirror_mode": {
    "name": "ipython",
    "version": 3
   },
   "file_extension": ".py",
   "mimetype": "text/x-python",
   "name": "python",
   "nbconvert_exporter": "python",
   "pygments_lexer": "ipython3",
   "version": "3.7.3"
  }
 },
 "nbformat": 4,
 "nbformat_minor": 2
}
