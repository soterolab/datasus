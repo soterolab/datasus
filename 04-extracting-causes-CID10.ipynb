{
 "cells": [
  {
   "cell_type": "code",
   "execution_count": 4,
   "metadata": {},
   "outputs": [],
   "source": [
    "# \n"
   ]
  },
  {
   "cell_type": "code",
   "execution_count": 5,
   "metadata": {},
   "outputs": [],
   "source": [
    "from bs4 import BeautifulSoup as bs\n",
    "import pandas as pd\n",
    "import requests\n",
    "import lxml"
   ]
  },
  {
   "cell_type": "code",
   "execution_count": 6,
   "metadata": {},
   "outputs": [
    {
     "data": {
      "text/html": [
       "<div>\n",
       "<style scoped>\n",
       "    .dataframe tbody tr th:only-of-type {\n",
       "        vertical-align: middle;\n",
       "    }\n",
       "\n",
       "    .dataframe tbody tr th {\n",
       "        vertical-align: top;\n",
       "    }\n",
       "\n",
       "    .dataframe thead th {\n",
       "        text-align: right;\n",
       "    }\n",
       "</style>\n",
       "<table border=\"1\" class=\"dataframe\">\n",
       "  <thead>\n",
       "    <tr style=\"text-align: right;\">\n",
       "      <th></th>\n",
       "      <th>0</th>\n",
       "      <th>1</th>\n",
       "    </tr>\n",
       "  </thead>\n",
       "  <tbody>\n",
       "    <tr>\n",
       "      <th>0</th>\n",
       "      <td>Categoria CID-10</td>\n",
       "      <td>Descrição</td>\n",
       "    </tr>\n",
       "    <tr>\n",
       "      <th>1</th>\n",
       "      <td>V01-V09</td>\n",
       "      <td>Pedestre traumatizado em acidente de transporte</td>\n",
       "    </tr>\n",
       "    <tr>\n",
       "      <th>2</th>\n",
       "      <td>V10-V19</td>\n",
       "      <td>Ciclista traumatizado em acidente de transporte</td>\n",
       "    </tr>\n",
       "    <tr>\n",
       "      <th>3</th>\n",
       "      <td>V20-V29</td>\n",
       "      <td>Motociclista traumatizado em acidente de trans...</td>\n",
       "    </tr>\n",
       "    <tr>\n",
       "      <th>4</th>\n",
       "      <td>V30-V39</td>\n",
       "      <td>Ocupante de triciclo motorizado traumatizado e...</td>\n",
       "    </tr>\n",
       "    <tr>\n",
       "      <th>5</th>\n",
       "      <td>V40-V49</td>\n",
       "      <td>Ocupante de automóvel traumatizado em acidente...</td>\n",
       "    </tr>\n",
       "    <tr>\n",
       "      <th>6</th>\n",
       "      <td>V50-V59</td>\n",
       "      <td>Ocupante de caminhonete traumatizado em aciden...</td>\n",
       "    </tr>\n",
       "    <tr>\n",
       "      <th>7</th>\n",
       "      <td>V60-V69</td>\n",
       "      <td>Ocupante de veículo de transporte pesado traum...</td>\n",
       "    </tr>\n",
       "    <tr>\n",
       "      <th>8</th>\n",
       "      <td>V70-V79</td>\n",
       "      <td>Ocupante de ônibus traumatizado em acidente de...</td>\n",
       "    </tr>\n",
       "    <tr>\n",
       "      <th>9</th>\n",
       "      <td>V80-V89</td>\n",
       "      <td>Outros acidentes de transporte terrestre</td>\n",
       "    </tr>\n",
       "    <tr>\n",
       "      <th>10</th>\n",
       "      <td>V90-V94</td>\n",
       "      <td>Acidentes de transporte por água</td>\n",
       "    </tr>\n",
       "    <tr>\n",
       "      <th>11</th>\n",
       "      <td>V95-V97</td>\n",
       "      <td>Acidentes de transporte aéreo e espacial</td>\n",
       "    </tr>\n",
       "    <tr>\n",
       "      <th>12</th>\n",
       "      <td>V98-V99</td>\n",
       "      <td>Outros acidentes de transporte e os não especi...</td>\n",
       "    </tr>\n",
       "  </tbody>\n",
       "</table>\n",
       "</div>"
      ],
      "text/plain": [
       "                   0                                                  1\n",
       "0   Categoria CID-10                                          Descrição\n",
       "1            V01-V09    Pedestre traumatizado em acidente de transporte\n",
       "2            V10-V19    Ciclista traumatizado em acidente de transporte\n",
       "3            V20-V29  Motociclista traumatizado em acidente de trans...\n",
       "4            V30-V39  Ocupante de triciclo motorizado traumatizado e...\n",
       "5            V40-V49  Ocupante de automóvel traumatizado em acidente...\n",
       "6            V50-V59  Ocupante de caminhonete traumatizado em aciden...\n",
       "7            V60-V69  Ocupante de veículo de transporte pesado traum...\n",
       "8            V70-V79  Ocupante de ônibus traumatizado em acidente de...\n",
       "9            V80-V89           Outros acidentes de transporte terrestre\n",
       "10           V90-V94                   Acidentes de transporte por água\n",
       "11           V95-V97           Acidentes de transporte aéreo e espacial\n",
       "12           V98-V99  Outros acidentes de transporte e os não especi..."
      ]
     },
     "execution_count": 6,
     "metadata": {},
     "output_type": "execute_result"
    }
   ],
   "source": [
    "causes = pd.read_html(\"http://mobilidadeativa.org.br/cid-10/\")\n",
    "causes[0]"
   ]
  },
  {
   "cell_type": "code",
   "execution_count": 7,
   "metadata": {},
   "outputs": [],
   "source": [
    "page = requests.get(\"https://pt.wikipedia.org/wiki/CID-10_Cap%C3%ADtulo_XX:_Causas_externas_de_morbidade_e_de_mortalidade\")\n",
    "page = bs(page.text, 'html.parser')"
   ]
  },
  {
   "cell_type": "code",
   "execution_count": 8,
   "metadata": {},
   "outputs": [
    {
     "data": {
      "text/plain": [
       "2074"
      ]
     },
     "execution_count": 8,
     "metadata": {},
     "output_type": "execute_result"
    }
   ],
   "source": [
    "causes = []\n",
    "\n",
    "for ul in page.findAll('ul'):\n",
    "    for li in ul.findAll('li'):\n",
    "        causes.append(li.text)\n",
    "        if len(li.findAll('ul')) != 0:\n",
    "            for ul in li.findAll('ul'):\n",
    "                for li in ul.findAll('li'):\n",
    "                    causes.append(li.text)\n",
    "\n",
    "len(causes)"
   ]
  },
  {
   "cell_type": "code",
   "execution_count": 9,
   "metadata": {},
   "outputs": [
    {
     "data": {
      "text/html": [
       "<div>\n",
       "<style scoped>\n",
       "    .dataframe tbody tr th:only-of-type {\n",
       "        vertical-align: middle;\n",
       "    }\n",
       "\n",
       "    .dataframe tbody tr th {\n",
       "        vertical-align: top;\n",
       "    }\n",
       "\n",
       "    .dataframe thead th {\n",
       "        text-align: right;\n",
       "    }\n",
       "</style>\n",
       "<table border=\"1\" class=\"dataframe\">\n",
       "  <thead>\n",
       "    <tr style=\"text-align: right;\">\n",
       "      <th></th>\n",
       "      <th>causes</th>\n",
       "    </tr>\n",
       "  </thead>\n",
       "  <tbody>\n",
       "    <tr>\n",
       "      <th>0</th>\n",
       "      <td>Medicina</td>\n",
       "    </tr>\n",
       "    <tr>\n",
       "      <th>1</th>\n",
       "      <td>1 (V01-X59) Acidentes\\n\\n1.1 (V01-V99) Acident...</td>\n",
       "    </tr>\n",
       "    <tr>\n",
       "      <th>2</th>\n",
       "      <td>1.1 (V01-V99) Acidentes de transporte\\n\\n1.1.1...</td>\n",
       "    </tr>\n",
       "    <tr>\n",
       "      <th>3</th>\n",
       "      <td>1.1.1 (V01-V09) Pedestre traumatizado em um ac...</td>\n",
       "    </tr>\n",
       "    <tr>\n",
       "      <th>4</th>\n",
       "      <td>1.1.2 (V10-V19) Ciclista traumatizado em um ac...</td>\n",
       "    </tr>\n",
       "  </tbody>\n",
       "</table>\n",
       "</div>"
      ],
      "text/plain": [
       "                                              causes\n",
       "0                                           Medicina\n",
       "1  1 (V01-X59) Acidentes\\n\\n1.1 (V01-V99) Acident...\n",
       "2  1.1 (V01-V99) Acidentes de transporte\\n\\n1.1.1...\n",
       "3  1.1.1 (V01-V09) Pedestre traumatizado em um ac...\n",
       "4  1.1.2 (V10-V19) Ciclista traumatizado em um ac..."
      ]
     },
     "execution_count": 9,
     "metadata": {},
     "output_type": "execute_result"
    }
   ],
   "source": [
    "causes_df = pd.DataFrame({'causes': causes})\n",
    "causes_df.head()"
   ]
  },
  {
   "cell_type": "code",
   "execution_count": null,
   "metadata": {},
   "outputs": [],
   "source": []
  }
 ],
 "metadata": {
  "kernelspec": {
   "display_name": "Python 3",
   "language": "python",
   "name": "python3"
  },
  "language_info": {
   "codemirror_mode": {
    "name": "ipython",
    "version": 3
   },
   "file_extension": ".py",
   "mimetype": "text/x-python",
   "name": "python",
   "nbconvert_exporter": "python",
   "pygments_lexer": "ipython3",
   "version": "3.6.10"
  }
 },
 "nbformat": 4,
 "nbformat_minor": 4
}
