{
 "cells": [
  {
   "cell_type": "markdown",
   "metadata": {},
   "source": [
    "# Causas externas de morbidade e de mortalidade: Acidentes de Transporte\n",
    "\n",
    "\n",
    "A CID-10 é a Classificação Internacional de Doenças [(International Statistical Classification of Diseases and Related Health Problems – ICD](https://icd.who.int/browse10/2010/en), está em sua décima revisão, feita em 2010. \n",
    "Essa classificação também abrange as causas externas de mortalidade, como acidentes de trânsito. E visto que o CID-10 também é usado nos dados do SIM, precisamos saber a descrição de cada código a fim de termos maior entendimento sobre a mortalidade no trânsito.\n",
    "\n",
    "A partir da página [CID-10 Capítulo XX: Causas externas de morbidade e de mortalidade](https://pt.wikipedia.org/wiki/CID-10_Cap%C3%ADtulo_XX:_Causas_externas_de_morbidade_e_de_mortalidade) disponível no Wikipédia, fizemos a extração dos códigos e descrições."
   ]
  },
  {
   "cell_type": "code",
   "execution_count": 1,
   "metadata": {},
   "outputs": [],
   "source": [
    "from bs4 import BeautifulSoup as bs\n",
    "import pandas as pd\n",
    "import requests\n",
    "import lxml\n",
    "pd.set_option('display.max_colwidth', None)"
   ]
  },
  {
   "cell_type": "markdown",
   "metadata": {},
   "source": [
    "Os dados disponíveis em [A Classificação Internacional de Doenças CID-10 do Mobilidade Ativa](\"http://mobilidadeativa.org.br/cid-10/\") fornece a descrição das faixas de código. O ideal seria ter a informação no formato mais granular possível."
   ]
  },
  {
   "cell_type": "code",
   "execution_count": 2,
   "metadata": {
    "scrolled": true
   },
   "outputs": [
    {
     "data": {
      "text/html": [
       "<div>\n",
       "<style scoped>\n",
       "    .dataframe tbody tr th:only-of-type {\n",
       "        vertical-align: middle;\n",
       "    }\n",
       "\n",
       "    .dataframe tbody tr th {\n",
       "        vertical-align: top;\n",
       "    }\n",
       "\n",
       "    .dataframe thead th {\n",
       "        text-align: right;\n",
       "    }\n",
       "</style>\n",
       "<table border=\"1\" class=\"dataframe\">\n",
       "  <thead>\n",
       "    <tr style=\"text-align: right;\">\n",
       "      <th></th>\n",
       "      <th>0</th>\n",
       "      <th>1</th>\n",
       "    </tr>\n",
       "  </thead>\n",
       "  <tbody>\n",
       "    <tr>\n",
       "      <th>0</th>\n",
       "      <td>Categoria CID-10</td>\n",
       "      <td>Descrição</td>\n",
       "    </tr>\n",
       "    <tr>\n",
       "      <th>1</th>\n",
       "      <td>V01-V09</td>\n",
       "      <td>Pedestre traumatizado em acidente de transporte</td>\n",
       "    </tr>\n",
       "    <tr>\n",
       "      <th>2</th>\n",
       "      <td>V10-V19</td>\n",
       "      <td>Ciclista traumatizado em acidente de transporte</td>\n",
       "    </tr>\n",
       "    <tr>\n",
       "      <th>3</th>\n",
       "      <td>V20-V29</td>\n",
       "      <td>Motociclista traumatizado em acidente de transporte</td>\n",
       "    </tr>\n",
       "    <tr>\n",
       "      <th>4</th>\n",
       "      <td>V30-V39</td>\n",
       "      <td>Ocupante de triciclo motorizado traumatizado em acidente de transporte</td>\n",
       "    </tr>\n",
       "    <tr>\n",
       "      <th>5</th>\n",
       "      <td>V40-V49</td>\n",
       "      <td>Ocupante de automóvel traumatizado em acidente de transporte</td>\n",
       "    </tr>\n",
       "    <tr>\n",
       "      <th>6</th>\n",
       "      <td>V50-V59</td>\n",
       "      <td>Ocupante de caminhonete traumatizado em acidente de transporte</td>\n",
       "    </tr>\n",
       "    <tr>\n",
       "      <th>7</th>\n",
       "      <td>V60-V69</td>\n",
       "      <td>Ocupante de veículo de transporte pesado traumatizado em acidente</td>\n",
       "    </tr>\n",
       "    <tr>\n",
       "      <th>8</th>\n",
       "      <td>V70-V79</td>\n",
       "      <td>Ocupante de ônibus traumatizado em acidente de transporte</td>\n",
       "    </tr>\n",
       "    <tr>\n",
       "      <th>9</th>\n",
       "      <td>V80-V89</td>\n",
       "      <td>Outros acidentes de transporte terrestre</td>\n",
       "    </tr>\n",
       "    <tr>\n",
       "      <th>10</th>\n",
       "      <td>V90-V94</td>\n",
       "      <td>Acidentes de transporte por água</td>\n",
       "    </tr>\n",
       "    <tr>\n",
       "      <th>11</th>\n",
       "      <td>V95-V97</td>\n",
       "      <td>Acidentes de transporte aéreo e espacial</td>\n",
       "    </tr>\n",
       "    <tr>\n",
       "      <th>12</th>\n",
       "      <td>V98-V99</td>\n",
       "      <td>Outros acidentes de transporte e os não especificados</td>\n",
       "    </tr>\n",
       "  </tbody>\n",
       "</table>\n",
       "</div>"
      ],
      "text/plain": [
       "                   0  \\\n",
       "0   Categoria CID-10   \n",
       "1            V01-V09   \n",
       "2            V10-V19   \n",
       "3            V20-V29   \n",
       "4            V30-V39   \n",
       "5            V40-V49   \n",
       "6            V50-V59   \n",
       "7            V60-V69   \n",
       "8            V70-V79   \n",
       "9            V80-V89   \n",
       "10           V90-V94   \n",
       "11           V95-V97   \n",
       "12           V98-V99   \n",
       "\n",
       "                                                                         1  \n",
       "0                                                                Descrição  \n",
       "1                          Pedestre traumatizado em acidente de transporte  \n",
       "2                          Ciclista traumatizado em acidente de transporte  \n",
       "3                      Motociclista traumatizado em acidente de transporte  \n",
       "4   Ocupante de triciclo motorizado traumatizado em acidente de transporte  \n",
       "5             Ocupante de automóvel traumatizado em acidente de transporte  \n",
       "6           Ocupante de caminhonete traumatizado em acidente de transporte  \n",
       "7        Ocupante de veículo de transporte pesado traumatizado em acidente  \n",
       "8                Ocupante de ônibus traumatizado em acidente de transporte  \n",
       "9                                 Outros acidentes de transporte terrestre  \n",
       "10                                        Acidentes de transporte por água  \n",
       "11                                Acidentes de transporte aéreo e espacial  \n",
       "12                   Outros acidentes de transporte e os não especificados  "
      ]
     },
     "execution_count": 2,
     "metadata": {},
     "output_type": "execute_result"
    }
   ],
   "source": [
    "causes = pd.read_html(\"http://mobilidadeativa.org.br/cid-10/\")\n",
    "causes[0]"
   ]
  },
  {
   "cell_type": "markdown",
   "metadata": {},
   "source": [
    "Vamos tentar a partir da página [CID-10 Capítulo XX: Causas externas de morbidade e de mortalidade do Wikipédia](https://pt.wikipedia.org/wiki/CID-10_Cap%C3%ADtulo_XX:_Causas_externas_de_morbidade_e_de_mortalidade)"
   ]
  },
  {
   "cell_type": "code",
   "execution_count": 3,
   "metadata": {},
   "outputs": [],
   "source": [
    "page = requests.get(\"https://pt.wikipedia.org/wiki/CID-10_Cap%C3%ADtulo_XX:_Causas_externas_de_morbidade_e_de_mortalidade\")\n",
    "page = bs(page.text, 'html.parser')"
   ]
  },
  {
   "cell_type": "code",
   "execution_count": 4,
   "metadata": {},
   "outputs": [
    {
     "data": {
      "text/plain": [
       "625"
      ]
     },
     "execution_count": 4,
     "metadata": {},
     "output_type": "execute_result"
    }
   ],
   "source": [
    "causes = []\n",
    "\n",
    "for ul in page.findAll('ul'):\n",
    "    for li in ul.findAll('li'):\n",
    "        if li.text[0:3] in ['(V0','(V1', '(V2', '(V3', '(V4', '(V5', '(V6', '(V7', '(V8', '(V9']:\n",
    "            causes.append(li.text)\n",
    "            if len(li.findAll('ul')) != 0:\n",
    "                for ul in li.findAll('ul'):\n",
    "                    for li in ul.findAll('li'):\n",
    "                        causes.append(li.text)\n",
    "\n",
    "len(causes)"
   ]
  },
  {
   "cell_type": "code",
   "execution_count": 61,
   "metadata": {},
   "outputs": [
    {
     "data": {
      "text/html": [
       "<div>\n",
       "<style scoped>\n",
       "    .dataframe tbody tr th:only-of-type {\n",
       "        vertical-align: middle;\n",
       "    }\n",
       "\n",
       "    .dataframe tbody tr th {\n",
       "        vertical-align: top;\n",
       "    }\n",
       "\n",
       "    .dataframe thead th {\n",
       "        text-align: right;\n",
       "    }\n",
       "</style>\n",
       "<table border=\"1\" class=\"dataframe\">\n",
       "  <thead>\n",
       "    <tr style=\"text-align: right;\">\n",
       "      <th></th>\n",
       "      <th>causes</th>\n",
       "    </tr>\n",
       "  </thead>\n",
       "  <tbody>\n",
       "    <tr>\n",
       "      <th>0</th>\n",
       "      <td>(V01) Pedestre traumatizado em colisão com um veículo a pedal</td>\n",
       "    </tr>\n",
       "    <tr>\n",
       "      <th>1</th>\n",
       "      <td>(V02) Pedestre traumatizado em colisão com um veículo a motor de duas ou três rodas</td>\n",
       "    </tr>\n",
       "    <tr>\n",
       "      <th>2</th>\n",
       "      <td>(V03) Pedestre traumatizado em colisão com um automóvel (carro), “pick up” ou caminhonete</td>\n",
       "    </tr>\n",
       "    <tr>\n",
       "      <th>3</th>\n",
       "      <td>(V04) Pedestre traumatizado em colisão com um veículo de transporte pesado ou com um ônibus</td>\n",
       "    </tr>\n",
       "    <tr>\n",
       "      <th>4</th>\n",
       "      <td>(V05) Pedestre traumatizado em colisão com trem (comboio) ou um veículo ferroviário</td>\n",
       "    </tr>\n",
       "  </tbody>\n",
       "</table>\n",
       "</div>"
      ],
      "text/plain": [
       "                                                                                        causes\n",
       "0                                (V01) Pedestre traumatizado em colisão com um veículo a pedal\n",
       "1          (V02) Pedestre traumatizado em colisão com um veículo a motor de duas ou três rodas\n",
       "2    (V03) Pedestre traumatizado em colisão com um automóvel (carro), “pick up” ou caminhonete\n",
       "3  (V04) Pedestre traumatizado em colisão com um veículo de transporte pesado ou com um ônibus\n",
       "4          (V05) Pedestre traumatizado em colisão com trem (comboio) ou um veículo ferroviário"
      ]
     },
     "execution_count": 61,
     "metadata": {},
     "output_type": "execute_result"
    }
   ],
   "source": [
    "causes_df = pd.DataFrame({'causes': causes})\n",
    "causes_df.head()"
   ]
  },
  {
   "cell_type": "code",
   "execution_count": 62,
   "metadata": {},
   "outputs": [
    {
     "data": {
      "text/html": [
       "<div>\n",
       "<style scoped>\n",
       "    .dataframe tbody tr th:only-of-type {\n",
       "        vertical-align: middle;\n",
       "    }\n",
       "\n",
       "    .dataframe tbody tr th {\n",
       "        vertical-align: top;\n",
       "    }\n",
       "\n",
       "    .dataframe thead th {\n",
       "        text-align: right;\n",
       "    }\n",
       "</style>\n",
       "<table border=\"1\" class=\"dataframe\">\n",
       "  <thead>\n",
       "    <tr style=\"text-align: right;\">\n",
       "      <th></th>\n",
       "      <th>causes</th>\n",
       "    </tr>\n",
       "  </thead>\n",
       "  <tbody>\n",
       "    <tr>\n",
       "      <th>0</th>\n",
       "      <td>V01) Pedestre traumatizado em colisão com um veículo a pedal</td>\n",
       "    </tr>\n",
       "    <tr>\n",
       "      <th>1</th>\n",
       "      <td>V02) Pedestre traumatizado em colisão com um veículo a motor de duas ou três rodas</td>\n",
       "    </tr>\n",
       "    <tr>\n",
       "      <th>2</th>\n",
       "      <td>V03) Pedestre traumatizado em colisão com um automóvel (carro), “pick up” ou caminhonete</td>\n",
       "    </tr>\n",
       "    <tr>\n",
       "      <th>3</th>\n",
       "      <td>V04) Pedestre traumatizado em colisão com um veículo de transporte pesado ou com um ônibus</td>\n",
       "    </tr>\n",
       "    <tr>\n",
       "      <th>4</th>\n",
       "      <td>V05) Pedestre traumatizado em colisão com trem (comboio) ou um veículo ferroviário</td>\n",
       "    </tr>\n",
       "  </tbody>\n",
       "</table>\n",
       "</div>"
      ],
      "text/plain": [
       "                                                                                       causes\n",
       "0                                V01) Pedestre traumatizado em colisão com um veículo a pedal\n",
       "1          V02) Pedestre traumatizado em colisão com um veículo a motor de duas ou três rodas\n",
       "2    V03) Pedestre traumatizado em colisão com um automóvel (carro), “pick up” ou caminhonete\n",
       "3  V04) Pedestre traumatizado em colisão com um veículo de transporte pesado ou com um ônibus\n",
       "4          V05) Pedestre traumatizado em colisão com trem (comboio) ou um veículo ferroviário"
      ]
     },
     "execution_count": 62,
     "metadata": {},
     "output_type": "execute_result"
    }
   ],
   "source": [
    "causes_df['causes'] = causes_df['causes'].str.rstrip().str.lstrip().str.lstrip(\"(\")\n",
    "causes_df.head()"
   ]
  },
  {
   "cell_type": "code",
   "execution_count": 63,
   "metadata": {
    "scrolled": true
   },
   "outputs": [
    {
     "data": {
      "text/html": [
       "<div>\n",
       "<style scoped>\n",
       "    .dataframe tbody tr th:only-of-type {\n",
       "        vertical-align: middle;\n",
       "    }\n",
       "\n",
       "    .dataframe tbody tr th {\n",
       "        vertical-align: top;\n",
       "    }\n",
       "\n",
       "    .dataframe thead th {\n",
       "        text-align: right;\n",
       "    }\n",
       "</style>\n",
       "<table border=\"1\" class=\"dataframe\">\n",
       "  <thead>\n",
       "    <tr style=\"text-align: right;\">\n",
       "      <th></th>\n",
       "      <th>causes</th>\n",
       "      <th>code</th>\n",
       "    </tr>\n",
       "  </thead>\n",
       "  <tbody>\n",
       "    <tr>\n",
       "      <th>0</th>\n",
       "      <td>V01) Pedestre traumatizado em colisão com um veículo a pedal</td>\n",
       "      <td>V01</td>\n",
       "    </tr>\n",
       "    <tr>\n",
       "      <th>1</th>\n",
       "      <td>V02) Pedestre traumatizado em colisão com um veículo a motor de duas ou três rodas</td>\n",
       "      <td>V02</td>\n",
       "    </tr>\n",
       "    <tr>\n",
       "      <th>2</th>\n",
       "      <td>V03) Pedestre traumatizado em colisão com um automóvel (carro), “pick up” ou caminhonete</td>\n",
       "      <td>V03</td>\n",
       "    </tr>\n",
       "    <tr>\n",
       "      <th>3</th>\n",
       "      <td>V04) Pedestre traumatizado em colisão com um veículo de transporte pesado ou com um ônibus</td>\n",
       "      <td>V04</td>\n",
       "    </tr>\n",
       "    <tr>\n",
       "      <th>4</th>\n",
       "      <td>V05) Pedestre traumatizado em colisão com trem (comboio) ou um veículo ferroviário</td>\n",
       "      <td>V05</td>\n",
       "    </tr>\n",
       "  </tbody>\n",
       "</table>\n",
       "</div>"
      ],
      "text/plain": [
       "                                                                                       causes  \\\n",
       "0                                V01) Pedestre traumatizado em colisão com um veículo a pedal   \n",
       "1          V02) Pedestre traumatizado em colisão com um veículo a motor de duas ou três rodas   \n",
       "2    V03) Pedestre traumatizado em colisão com um automóvel (carro), “pick up” ou caminhonete   \n",
       "3  V04) Pedestre traumatizado em colisão com um veículo de transporte pesado ou com um ônibus   \n",
       "4          V05) Pedestre traumatizado em colisão com trem (comboio) ou um veículo ferroviário   \n",
       "\n",
       "  code  \n",
       "0  V01  \n",
       "1  V02  \n",
       "2  V03  \n",
       "3  V04  \n",
       "4  V05  "
      ]
     },
     "execution_count": 63,
     "metadata": {},
     "output_type": "execute_result"
    }
   ],
   "source": [
    "causes_df['code'] = causes_df['causes'].str.split(\")\").str[0]\n",
    "causes_df.head()"
   ]
  },
  {
   "cell_type": "code",
   "execution_count": 66,
   "metadata": {},
   "outputs": [
    {
     "data": {
      "text/html": [
       "<div>\n",
       "<style scoped>\n",
       "    .dataframe tbody tr th:only-of-type {\n",
       "        vertical-align: middle;\n",
       "    }\n",
       "\n",
       "    .dataframe tbody tr th {\n",
       "        vertical-align: top;\n",
       "    }\n",
       "\n",
       "    .dataframe thead th {\n",
       "        text-align: right;\n",
       "    }\n",
       "</style>\n",
       "<table border=\"1\" class=\"dataframe\">\n",
       "  <thead>\n",
       "    <tr style=\"text-align: right;\">\n",
       "      <th></th>\n",
       "      <th>causes</th>\n",
       "      <th>code</th>\n",
       "    </tr>\n",
       "  </thead>\n",
       "  <tbody>\n",
       "    <tr>\n",
       "      <th>0</th>\n",
       "      <td>Pedestre traumatizado em colisão com um veículo a pedal</td>\n",
       "      <td>V01</td>\n",
       "    </tr>\n",
       "    <tr>\n",
       "      <th>1</th>\n",
       "      <td>Pedestre traumatizado em colisão com um veículo a motor de duas ou três rodas</td>\n",
       "      <td>V02</td>\n",
       "    </tr>\n",
       "    <tr>\n",
       "      <th>2</th>\n",
       "      <td>Pedestre traumatizado em colisão com um automóvel (carro), “pick up” ou caminhonete</td>\n",
       "      <td>V03</td>\n",
       "    </tr>\n",
       "    <tr>\n",
       "      <th>3</th>\n",
       "      <td>Pedestre traumatizado em colisão com um veículo de transporte pesado ou com um ônibus</td>\n",
       "      <td>V04</td>\n",
       "    </tr>\n",
       "    <tr>\n",
       "      <th>4</th>\n",
       "      <td>Pedestre traumatizado em colisão com trem (comboio) ou um veículo ferroviário</td>\n",
       "      <td>V05</td>\n",
       "    </tr>\n",
       "  </tbody>\n",
       "</table>\n",
       "</div>"
      ],
      "text/plain": [
       "                                                                                   causes  \\\n",
       "0                                 Pedestre traumatizado em colisão com um veículo a pedal   \n",
       "1           Pedestre traumatizado em colisão com um veículo a motor de duas ou três rodas   \n",
       "2     Pedestre traumatizado em colisão com um automóvel (carro), “pick up” ou caminhonete   \n",
       "3   Pedestre traumatizado em colisão com um veículo de transporte pesado ou com um ônibus   \n",
       "4           Pedestre traumatizado em colisão com trem (comboio) ou um veículo ferroviário   \n",
       "\n",
       "  code  \n",
       "0  V01  \n",
       "1  V02  \n",
       "2  V03  \n",
       "3  V04  \n",
       "4  V05  "
      ]
     },
     "execution_count": 66,
     "metadata": {},
     "output_type": "execute_result"
    }
   ],
   "source": [
    "causes_df['causes'] = causes_df['causes'].str.split(\")\").str[1] + \\\n",
    "                        causes_df['causes'].str.split(\")\").str[2].apply(lambda x: \")\" + x if pd.notna(x) else \"\")\n",
    "\n",
    "causes_df.head()"
   ]
  },
  {
   "cell_type": "code",
   "execution_count": 67,
   "metadata": {},
   "outputs": [
    {
     "data": {
      "text/html": [
       "<div>\n",
       "<style scoped>\n",
       "    .dataframe tbody tr th:only-of-type {\n",
       "        vertical-align: middle;\n",
       "    }\n",
       "\n",
       "    .dataframe tbody tr th {\n",
       "        vertical-align: top;\n",
       "    }\n",
       "\n",
       "    .dataframe thead th {\n",
       "        text-align: right;\n",
       "    }\n",
       "</style>\n",
       "<table border=\"1\" class=\"dataframe\">\n",
       "  <thead>\n",
       "    <tr style=\"text-align: right;\">\n",
       "      <th></th>\n",
       "      <th>causes</th>\n",
       "      <th>code</th>\n",
       "    </tr>\n",
       "  </thead>\n",
       "  <tbody>\n",
       "    <tr>\n",
       "      <th>0</th>\n",
       "      <td>Pedestre traumatizado em colisão com um veículo a pedal</td>\n",
       "      <td>V01</td>\n",
       "    </tr>\n",
       "    <tr>\n",
       "      <th>1</th>\n",
       "      <td>Pedestre traumatizado em colisão com um veículo a motor de duas ou três rodas</td>\n",
       "      <td>V02</td>\n",
       "    </tr>\n",
       "    <tr>\n",
       "      <th>2</th>\n",
       "      <td>Pedestre traumatizado em colisão com um automóvel (carro), “pick up” ou caminhonete</td>\n",
       "      <td>V03</td>\n",
       "    </tr>\n",
       "    <tr>\n",
       "      <th>3</th>\n",
       "      <td>Pedestre traumatizado em colisão com um veículo de transporte pesado ou com um ônibus</td>\n",
       "      <td>V04</td>\n",
       "    </tr>\n",
       "    <tr>\n",
       "      <th>4</th>\n",
       "      <td>Pedestre traumatizado em colisão com trem (comboio) ou um veículo ferroviário</td>\n",
       "      <td>V05</td>\n",
       "    </tr>\n",
       "  </tbody>\n",
       "</table>\n",
       "</div>"
      ],
      "text/plain": [
       "                                                                                  causes  \\\n",
       "0                                Pedestre traumatizado em colisão com um veículo a pedal   \n",
       "1          Pedestre traumatizado em colisão com um veículo a motor de duas ou três rodas   \n",
       "2    Pedestre traumatizado em colisão com um automóvel (carro), “pick up” ou caminhonete   \n",
       "3  Pedestre traumatizado em colisão com um veículo de transporte pesado ou com um ônibus   \n",
       "4          Pedestre traumatizado em colisão com trem (comboio) ou um veículo ferroviário   \n",
       "\n",
       "  code  \n",
       "0  V01  \n",
       "1  V02  \n",
       "2  V03  \n",
       "3  V04  \n",
       "4  V05  "
      ]
     },
     "execution_count": 67,
     "metadata": {},
     "output_type": "execute_result"
    }
   ],
   "source": [
    "causes_df['causes'] = causes_df['causes'].str.rstrip().str.lstrip()\n",
    "causes_df.head()"
   ]
  },
  {
   "cell_type": "code",
   "execution_count": null,
   "metadata": {},
   "outputs": [],
   "source": []
  }
 ],
 "metadata": {
  "kernelspec": {
   "display_name": "Python 3",
   "language": "python",
   "name": "python3"
  },
  "language_info": {
   "codemirror_mode": {
    "name": "ipython",
    "version": 3
   },
   "file_extension": ".py",
   "mimetype": "text/x-python",
   "name": "python",
   "nbconvert_exporter": "python",
   "pygments_lexer": "ipython3",
   "version": "3.6.10"
  }
 },
 "nbformat": 4,
 "nbformat_minor": 4
}
